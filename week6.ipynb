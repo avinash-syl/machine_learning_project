{
 "cells": [
  {
   "cell_type": "code",
   "execution_count": 135,
   "metadata": {},
   "outputs": [],
   "source": [
    "import matplotlib.pyplot as plt\n",
    "import numpy as np\n",
    "import sympy "
   ]
  },
  {
   "cell_type": "code",
   "execution_count": 136,
   "metadata": {},
   "outputs": [],
   "source": [
    "def generate_trainingdata(m=25):\n",
    "    return np.array([0,0])+0.25*np.random.randn(m,2)\n",
    "\n",
    "def f(x, minibatch):\n",
    "    # loss function sum_{w in training data} f(x,w)\n",
    "    y=0; count=0\n",
    "    for w in minibatch:\n",
    "        z=x-w-1\n",
    "        y=y+sympy.Min(36*(z[0]**2+z[1]**2), (z[0]+4)**2+(z[1]+10)**2)\n",
    "    return y/count"
   ]
  },
  {
   "cell_type": "code",
   "execution_count": 137,
   "metadata": {},
   "outputs": [],
   "source": [
    "train = generate_trainingdata()"
   ]
  },
  {
   "cell_type": "code",
   "execution_count": 138,
   "metadata": {},
   "outputs": [],
   "source": [
    "def shuffle(data):\n",
    "    np.random.shuffle(data)\n",
    "    return data"
   ]
  },
  {
   "cell_type": "code",
   "execution_count": 139,
   "metadata": {},
   "outputs": [
    {
     "name": "stdout",
     "output_type": "stream",
     "text": [
      "(-68*w1 + 68*x1 - 68)*Heaviside(-34*(-w1 + x1 - 1)**2 + (-w1 + x1 + 3)**2 - 34*(-w2 + x2 - 1)**2 + (-w2 + x2 + 8)**2) + (-2*w1 + 2*x1 + 6)*Heaviside(34*(-w1 + x1 - 1)**2 - (-w1 + x1 + 3)**2 + 34*(-w2 + x2 - 1)**2 - (-w2 + x2 + 8)**2)\n",
      "(-68*w2 + 68*x2 - 68)*Heaviside(-34*(-w1 + x1 - 1)**2 + (-w1 + x1 + 3)**2 - 34*(-w2 + x2 - 1)**2 + (-w2 + x2 + 8)**2) + (-2*w2 + 2*x2 + 16)*Heaviside(34*(-w1 + x1 - 1)**2 - (-w1 + x1 + 3)**2 + 34*(-w2 + x2 - 1)**2 - (-w2 + x2 + 8)**2)\n"
     ]
    }
   ],
   "source": [
    "x1, x2 = sympy.symbols('x1 x2', real=True)\n",
    "w1, w2 = sympy.symbols('w1 w2', real=True)\n",
    "\n",
    "z1 = x1 - w1 - 1\n",
    "z2 = x2 - w2 - 1\n",
    "\n",
    "# Loss function and differentiations\n",
    "loss_fn = sympy.Min(36*(z[0]**2+z[1]**2), (z[0]+4)**2+(z[1]+10)**2)\n",
    "diff_x1 = sympy.diff(loss_fn, x1)\n",
    "diff_x2 = sympy.diff(loss_fn, x2)\n",
    "\n",
    "print(diff_x1)\n",
    "print(diff_x2)"
   ]
  },
  {
   "cell_type": "code",
   "execution_count": 140,
   "metadata": {},
   "outputs": [],
   "source": [
    "fn = sympy.lambdify(((x1, x2), (w1, w2)), loss_fn, modules='numpy')\n",
    "\n",
    "# Using value from sympy.diff in functions to substitute x and w values easily\n",
    "def dfdx1(x, w):\n",
    "    x1, x2, w1, w2 = x[0], x[1], w[0], w[1]\n",
    "    return (-72*w1 + 72*x1 - 72)*sympy.Heaviside(-36*(-w1 + x1 - 1)**2 + (-w1 + x1 + 3)**2 - 36*(-w2 + x2 - 1)**2 + (-w2 + x2 + 9)**2) + (-2*w1 + 2*x1 + 6)*sympy.Heaviside(36*(-w1 + x1 - 1)**2 - (-w1 + x1 + 3)**2 + 36*(-w2 + x2 - 1)**2 - (-w2 + x2 + 9)**2)\n",
    "def dfdx2(x, w):\n",
    "    x1, x2, w1, w2 = x[0], x[1], w[0], w[1]\n",
    "    return (-72*w2 + 72*x2 - 72)*sympy.Heaviside(-36*(-w1 + x1 - 1)**2 + (-w1 + x1 + 3)**2 - 36*(-w2 + x2 - 1)**2 + (-w2 + x2 + 9)**2) + (-2*w2 + 2*x2 + 18)*sympy.Heaviside(36*(-w1 + x1 - 1)**2 - (-w1 + x1 + 3)**2 + 36*(-w2 + x2 - 1)**2 - (-w2 + x2 + 9)**2)\n"
   ]
  },
  {
   "cell_type": "code",
   "execution_count": 141,
   "metadata": {},
   "outputs": [],
   "source": [
    "def approx_deriv(batch_points, x, init_point, b=1):\n",
    "    sum_val = 0\n",
    "    if x == 1:\n",
    "        for i in range(b):\n",
    "            sum_val = sum_val + dfdx1(init_point, batch_points[i])\n",
    "    elif x == 2:\n",
    "        for i in range(b):\n",
    "            sum_val = sum_val + dfdx2(init_point, batch_points[i])\n",
    "    return sum_val / b"
   ]
  },
  {
   "cell_type": "code",
   "execution_count": 142,
   "metadata": {},
   "outputs": [],
   "source": [
    "def mb_sgd_const(fn, X, b_size = 1, alpha = 0.1, iterations = 50):\n",
    "    x1 = X[0]\n",
    "    x2 = X[1]\n",
    "    X1 = np.array([x1])\n",
    "    X2 = np.array([x2])\n",
    "    func_vals = np.array(fn((x1, x2), (0,0)))\n",
    "    \n",
    "    N = len(X)\n",
    "    \n",
    "    for i in range(iterations):\n",
    "        data = shuffle(train)\n",
    "        for b in np.arange(0, N, b_size):\n",
    "            samples_index = np.arange(b, b + b_size)\n",
    "            batch = train[samples_index]\n",
    "            ad_x1 = approx_deriv(batch, 1, data, b_size)\n",
    "            ad_x2 = approx_deriv(batch, 2, data, b_size)\n",
    "            x1 = x1 - (alpha * ad_x1)\n",
    "            x2 = x2 - (alpha * ad_x2)\n",
    "        X1 = np.append(X1, [x1], axis = 0)\n",
    "        X2 = np.append(X2, [x2], axis = 0)\n",
    "        func_vals = np.append(func_vals, fn((x1,x2), batch))\n",
    "    return (X1, X2, func_vals)"
   ]
  },
  {
   "cell_type": "code",
   "execution_count": 143,
   "metadata": {},
   "outputs": [],
   "source": [
    "def gd_const(fn, X, alpha = 0.01, iterations = 50):\n",
    "    x1 = X[0]\n",
    "    x2 = X[1]\n",
    "    X1 = np.array([x1])\n",
    "    X2 = np.array([x2])\n",
    "    func_vals = np.array(fn((x1, x2), (0,0)))\n",
    "    \n",
    "    for i in range(iterations):\n",
    "        batch = train[0]\n",
    "        alpha_x1 = alpha * approx_deriv(batch, 1, X)\n",
    "        alpha_x2 = alpha * approx_deriv(batch, 2, X)\n",
    "        \n",
    "        x1 = x1 - alpha_x1\n",
    "        x2 = x2 - alpha_x2\n",
    "        \n",
    "        X1 = np.append(X1, [x1], axis = 0)\n",
    "        X2 = np.append(X2, [x2], axis = 0)\n",
    "        func_vals = np.append(func_vals, fn((x1,x2), batch))\n",
    "        \n",
    "    return (X1, X2, func_vals)"
   ]
  },
  {
   "cell_type": "code",
   "execution_count": 144,
   "metadata": {},
   "outputs": [],
   "source": [
    "def mb_sgd_polyak(fn, X, fs = 0, eps = 0.0001, b_size = 1, iterations = 50):\n",
    "    x1 = X[0]\n",
    "    x2 = X[1]\n",
    "    X1 = np.array([x1])\n",
    "    X2 = np.array([x2])\n",
    "    func_vals = np.array(fn(x1, x2))\n",
    "    \n",
    "    N = len(X)\n",
    "    \n",
    "    for i in range(iterations):\n",
    "        data = shuffle(train)\n",
    "        for b in np.arange(0, N, b_size):\n",
    "            samples_index = np.arange(b, b + b_size)\n",
    "            batch = train[samples_index]\n",
    "            ad_x1 = approx_deriv(batch, b_size, 1, data)\n",
    "            ad_x2 = approx_deriv(batch, b_size, 2, data)\n",
    "            alpha_x1 = (fn(x1, x2) - fs) / (ad_x1**2 + eps) \n",
    "            alpha_x2 = (fn(x1, x2) - fs) / (ad_x2**2 + eps) \n",
    "            x1 = x1 - (alpha_x1 * ad_x1)\n",
    "            x2 = x2 - (alpha_x2 * ad_x2)\n",
    "        X1 = np.append(X1, [x1], axis = 0)\n",
    "        X2 = np.append(X2, [x2], axis = 0)\n",
    "        func_vals = np.append(func_vals, fn((x1,x2), batch))\n",
    "    return (X1, X2, func_vals)"
   ]
  },
  {
   "cell_type": "code",
   "execution_count": 145,
   "metadata": {},
   "outputs": [],
   "source": [
    "def mb_sgd_rms(fn, X, beta = 0.98, eps = 0.0001, b_size = 1, alpha = 0.1, iterations = 50):\n",
    "    x1 = X[0]\n",
    "    x2 = X[1]\n",
    "    X1 = np.array([x1])\n",
    "    X2 = np.array([x2])\n",
    "    func_vals = np.array(fn(x1, x2))\n",
    "    alpha_next = alpha\n",
    "    N = len(X)\n",
    "    for i in range(iterations):\n",
    "        data = shuffle(train)\n",
    "        for b in np.arange(0, N, b_size):\n",
    "            samples_index = np.arange(b, b + b_size)\n",
    "            batch = train[samples_index]\n",
    "            ad_x1 = approx_deriv(batch, b_size, 1, data)\n",
    "            ad_x2 = approx_deriv(batch, b_size, 2, data)\n",
    "            x1_next = x1 - alpha_next * ad_x1\n",
    "            grad_sum = (beta * grad_sum) + (1 - beta) * ((ad_x1)**2)\n",
    "          \n",
    "            x2_next = x2 - alpha_next * ad_x2\n",
    "            grad_sum = (beta * grad_sum) + (1 - beta) * ((ad_x2)**2)\n",
    "            \n",
    "            alpha_next = alpha / (sympy.sqrt(grad_sum) + eps)\n",
    "        X1 = np.append(X1, [x1_next], axis = 0)\n",
    "        X2 = np.append(X2, [x2_next], axis = 0)\n",
    "        func_vals = np.append(func_vals, fn((x1,x2), batch))\n",
    "    return (X1, X2, func_vals)"
   ]
  },
  {
   "cell_type": "code",
   "execution_count": 146,
   "metadata": {},
   "outputs": [],
   "source": [
    "def mb_sgd_hb(fn, X, beta = 0.98, b_size = 1, alpha = 0.1, iterations = 50):\n",
    "    x1 = X[0]\n",
    "    x2 = X[1]\n",
    "    X1 = np.array([x1])\n",
    "    X2 = np.array([x2])\n",
    "    func_vals = np.array(fn(x1, x2))\n",
    "    N = len(X)\n",
    "    for i in range(iterations):\n",
    "        data = shuffle(train)\n",
    "        for b in np.arange(0, N, b_size):\n",
    "            samples_index = np.arange(b, b + b_size)\n",
    "            batch = train[samples_index]\n",
    "            ad_x1 = approx_deriv(batch, b_size, 1, data)\n",
    "            ad_x2 = approx_deriv(batch, b_size, 2, data)\n",
    "            \n",
    "            mx1 = (beta * mx1) + (alpha * ad_x1)\n",
    "            x1 = x1 - mx1  \n",
    "          \n",
    "            mx2 = (beta * mx2) + (alpha * ad_x2)\n",
    "            x2 = x2 - mx2\n",
    "            \n",
    "        X1 = np.append(X1, [x1], axis = 0)\n",
    "        X2 = np.append(X2, [x2], axis = 0)\n",
    "        func_vals = np.append(func_vals, fn((x1,x2), batch))\n",
    "    return (X1, X2, func_vals)"
   ]
  },
  {
   "cell_type": "code",
   "execution_count": 147,
   "metadata": {},
   "outputs": [],
   "source": [
    "def mb_sgd_adam(fn, X, beta1 = 0.98, beta2 = 0.9, b_size = 1, alpha = 0.1, iterations = 50):\n",
    "    x1 = X[0]\n",
    "    x2 = X[1]\n",
    "    mx1 = 0; vx1 = 0\n",
    "    mx2 = 0; vx2 = 0\n",
    "    t = 0\n",
    "    eps = 1e-8\n",
    "    X1 = np.array([x1])\n",
    "    X2 = np.array([x2])\n",
    "    func_vals = np.array(fn(x1, x2))\n",
    "    N = len(X)\n",
    "    for i in range(iterations):\n",
    "        data = shuffle(train)\n",
    "        for b in np.arange(0, N, b_size):\n",
    "            samples_index = np.arange(b, b + b_size)\n",
    "            batch = train[samples_index]\n",
    "            ad_x1 = approx_deriv(batch, b_size, 1, data)\n",
    "            ad_x2 = approx_deriv(batch, b_size, 2, data)\n",
    "            t += 1\n",
    "            \n",
    "            mx1 = beta1 * mx1 + (1 - beta1) * ad_x1\n",
    "            vx1 = beta2 * vx1 + (1 - beta2) * (ad_x1**2)\n",
    "            m_hat = mx1 / (1 - beta1 ** t)\n",
    "            v_hat = vx1 / (1 - beta2 ** t)\n",
    "            \n",
    "            x1 = x1 - alpha * m_hat / (sympy.sqrt(v_hat) + eps)  \n",
    "          \n",
    "            mx2 = beta1 * mx2 + (1 - beta1) * ad_x2\n",
    "            vx2 = beta2 * vx2 + (1 - beta2) * (ad_x2**2)\n",
    "            m_hat = mx2 / (1 - beta1 ** t)\n",
    "            v_hat = vx2 / (1 - beta2 ** t)\n",
    "            \n",
    "            x2 = x2 - alpha * m_hat / (sympy.sqrt(v_hat) + eps)\n",
    "            \n",
    "        X1 = np.append(X1, [x1], axis = 0)\n",
    "        X2 = np.append(X2, [x2], axis = 0)\n",
    "        func_vals = np.append(func_vals, fn((x1,x2), batch))\n",
    "    return (X1, X2, func_vals)"
   ]
  },
  {
   "cell_type": "code",
   "execution_count": null,
   "metadata": {},
   "outputs": [],
   "source": []
  }
 ],
 "metadata": {
  "kernelspec": {
   "display_name": "assignments",
   "language": "python",
   "name": "python3"
  },
  "language_info": {
   "codemirror_mode": {
    "name": "ipython",
    "version": 3
   },
   "file_extension": ".py",
   "mimetype": "text/x-python",
   "name": "python",
   "nbconvert_exporter": "python",
   "pygments_lexer": "ipython3",
   "version": "3.10.4 (tags/v3.10.4:9d38120, Mar 23 2022, 23:13:41) [MSC v.1929 64 bit (AMD64)]"
  },
  "orig_nbformat": 4,
  "vscode": {
   "interpreter": {
    "hash": "9785dd8e3a0de06656117accf7c7cdd4e669518437d044b39b0a9a65eb3fac8d"
   }
  }
 },
 "nbformat": 4,
 "nbformat_minor": 2
}
