{
 "cells": [
  {
   "cell_type": "code",
   "execution_count": 8,
   "metadata": {},
   "outputs": [],
   "source": [
    "import numpy as np\n",
    "import random\n",
    "from sympy import symbols, diff, lambdify\n",
    "import tensorflow as tf\n",
    "from tensorflow import keras\n",
    "from keras.models import Sequential\n",
    "from keras.datasets import mnist\n",
    "from keras.utils.np_utils import to_categorical   \n",
    "from keras import layers, regularizers\n",
    "from keras.layers import *\n",
    "import matplotlib.pyplot as plot\n",
    "from timeit import default_timer\n",
    "from sklearn.model_selection import GridSearchCV\n",
    "from scikeras.wrappers import KerasClassifier, KerasRegressor"
   ]
  },
  {
   "cell_type": "code",
   "execution_count": 9,
   "metadata": {},
   "outputs": [],
   "source": [
    "classes = 10\n",
    "input_shape = (32, 32, 3)\n",
    "n=5000\n",
    "(x_train, y_train), (x_test, y_test) = mnist.load_data()\n",
    "\n",
    "x_train = x_train[1:n]\n",
    "y_train = y_train[1:n]\n",
    "x_train = x_train.astype(\"float32\") / 255\n",
    "x_test = x_test.astype(\"float32\") / 255\n",
    "\n",
    "y_train = to_categorical(y_train, classes)\n",
    "y_test = to_categorical(y_test, classes)"
   ]
  },
  {
   "cell_type": "code",
   "execution_count": 10,
   "metadata": {},
   "outputs": [],
   "source": [
    "def nn_model(alpha, beta1, beta2, init='uniform'):\n",
    "    model = keras.Sequential(\n",
    "        [\n",
    "            keras.Input(shape=(28, 28, 1)),\n",
    "            layers.Conv2D(32, kernel_size=(3, 3), activation=\"relu\"),\n",
    "            layers.MaxPooling2D(pool_size=(2, 2)),\n",
    "            layers.Conv2D(64, kernel_size=(3, 3), activation=\"relu\"),\n",
    "            layers.MaxPooling2D(pool_size=(2, 2)),\n",
    "            layers.Flatten(),\n",
    "            layers.Dropout(0.5),\n",
    "            layers.Dense(classes, activation=\"softmax\"),\n",
    "        ]\n",
    "    )\n",
    "    \n",
    "    adam = tf.keras.optimizers.Adam(learning_rate=alpha, beta_1=beta1, beta_2=beta2)\n",
    "    model.compile(loss=\"categorical_crossentropy\", optimizer=adam, metrics=[\"accuracy\"])\n",
    "\n",
    "    return model"
   ]
  },
  {
   "cell_type": "code",
   "execution_count": 12,
   "metadata": {},
   "outputs": [],
   "source": [
    "def fit_nn(model):\n",
    "\n",
    "  nmodel = KerasClassifier(build_fn=model, verbose=1)\n",
    "\n",
    "  batch_size = [32, 64, 128, 512]\n",
    "  epochs = [10, 20, 50, 100]\n",
    "\n",
    "  params = dict(epochs=epochs, batch_size=batch_size)\n",
    "\n",
    "  gsresult = GridSearchCV(estimator=nmodel, param_grid=params, cv=3)\n",
    "  final_model = gsresult.fit(x_train, y_train)\n",
    "  mts = final_model.cv_results_['mean_test_score']\n",
    "  sts = final_model.cv_results_['std_test_score']\n",
    "  params = final_model.cv_results_['params']\n",
    "  for mean, st, param in zip(mts, sts, params):\n",
    "      print(f'{mean:.4} || {st:.4} || {param}')"
   ]
  },
  {
   "cell_type": "code",
   "execution_count": null,
   "metadata": {},
   "outputs": [],
   "source": [
    "def eval_nn(model, batch_size, epochs):\n",
    "    modelh = model.fit(x_train, y_train, batch_size=batch_size, epochs=epochs, validation_split=0.1)\n",
    "    \n",
    "    # loss plot\n",
    "    plot.plot(np.sqrt(modelh.history['loss']), 'red', label='Training data')\n",
    "    plot.plot(np.sqrt(modelh.history['val_loss']), 'blue', label='Test data')\n",
    "    plot.title('Model Loss over time')\n",
    "    plot.xlabel('Iterations')\n",
    "    plot.ylabel('Loss')\n",
    "    plot.legend()\n",
    "    plot.show()\n",
    "  \n",
    "    # Accuracy plot\n",
    "    plot.plot(np.sqrt(modelh.history['accuracy']), 'black', label='Training data')\n",
    "    plot.plot(np.sqrt(modelh.history['val_accuracy']), 'Purple', label='Test data')\n",
    "    plot.title('Accuracy plot for SGD')\n",
    "    plot.ylabel('Accuracy')\n",
    "    plot.xlabel('Iterations')\n",
    "    plot.legend()\n",
    "    plot.show()\n",
    "    \n",
    "    return (np.sqrt(modelh.history['accuracy']), np.sqrt(modelh.history['val_accuracy']))"
   ]
  },
  {
   "cell_type": "code",
   "execution_count": null,
   "metadata": {},
   "outputs": [],
   "source": [
    "model = nn_model(0.001, 0.9, 0.999)\n",
    "fit_nn(model)"
   ]
  },
  {
   "cell_type": "code",
   "execution_count": null,
   "metadata": {},
   "outputs": [],
   "source": [
    "alpha_vals = [0.001, 1]\n",
    "beta1_vals = [0.5, 0.999]\n",
    "beta2_vals = [0.8, 0.999]\n",
    "batch_size = 32\n",
    "epochs = 100\n",
    "\n",
    "for alpha in alpha_vals:\n",
    "  for beta1 in beta1_vals:\n",
    "    for beta2 in beta2_vals:\n",
    "        model = nn_model(alpha, beta1, beta1)\n",
    "        train_a, testa = eval_nn(model, batch_size, epochs)"
   ]
  },
  {
   "cell_type": "code",
   "execution_count": null,
   "metadata": {},
   "outputs": [],
   "source": [
    "def random_search(fn, x_range, N, n):\n",
    "    start = default_timer()\n",
    "    X = []\n",
    "    cost_x = []\n",
    "    func_vals = []\n",
    "    mcf = float('inf')\n",
    "    for i in range(N):\n",
    "        for j in range(n):\n",
    "            cost_x.insert(j, np.random.uniform(low=x_range[0], high=x_range[1]+1))\n",
    "        cost_function = fn(cost_x)\n",
    "        if (cost_function < mcf):\n",
    "            X = np.append(X, cost_x, axis=0)\n",
    "            func_vals = np.append(func_vals, cost_function)\n",
    "            mcf = cost_function\n",
    "    run_time = default_timer() - start\n",
    "    return (X, func_vals, run_time)"
   ]
  },
  {
   "cell_type": "code",
   "execution_count": null,
   "metadata": {},
   "outputs": [],
   "source": [
    "def sgd_nn(rate, momentum):\n",
    "  # Define neural model\n",
    "  model = keras.Sequential(\n",
    "      [\n",
    "          keras.Input(shape=(28, 28, 1)),\n",
    "          layers.Conv2D(32, kernel_size=(3, 3), activation=\"relu\"),\n",
    "          layers.MaxPooling2D(pool_size=(2, 2)),\n",
    "          layers.Conv2D(64, kernel_size=(3, 3), activation=\"relu\"),\n",
    "          layers.MaxPooling2D(pool_size=(2, 2)),\n",
    "          layers.Flatten(),\n",
    "          layers.Dropout(0.5),\n",
    "          layers.Dense(classes, activation=\"softmax\"),\n",
    "      ]\n",
    "  )\n",
    "\n",
    "\n",
    "  # Create SGD optimizer with given hyperparameters\n",
    "  sgd = tf.keras.optimizers.SGD(lr=rate, momentum=momentum, nesterov=False)\n",
    "  model.compile(loss=\"categorical_crossentropy\", optimizer=sgd, metrics=[\"accuracy\"])\n",
    "\n",
    "  return model"
   ]
  },
  {
   "cell_type": "code",
   "execution_count": null,
   "metadata": {},
   "outputs": [],
   "source": [
    "def sgd_eval(model, batch_size, epochs):\n",
    "  modelh = model.fit(x_train, y_train, batch_size=batch_size, epochs=epochs, validation_split=0.1)\n",
    "    \n",
    "  # loss plot\n",
    "  plot.plot(np.sqrt(modelh.history['loss']), 'red', label='Train')\n",
    "  plot.plot(np.sqrt(modelh.history['val_loss']), 'blue', label='Test')\n",
    "  plot.title('Loss plot for SGD')\n",
    "  plot.ylabel('Loss')\n",
    "  plot.xlabel('Iterations')\n",
    "  plot.legend()\n",
    "  plot.show()\n",
    "\n",
    "  # Accuracy plot\n",
    "  plot.plot(np.sqrt(modelh.history['accuracy']), 'black', label='Training data')\n",
    "  plot.plot(np.sqrt(modelh.history['val_accuracy']), 'Purple', label='Test data')\n",
    "  plot.title('Accuracy plot for SGD')\n",
    "  plot.ylabel('Accuracy')\n",
    "  plot.xlabel('Iterations')\n",
    "  plot.legend()\n",
    "  plot.show()\n",
    "\n",
    "  return (np.sqrt(modelh.history['accuracy']), np.sqrt(modelh.history['val_accuracy']))"
   ]
  },
  {
   "cell_type": "code",
   "execution_count": null,
   "metadata": {},
   "outputs": [],
   "source": [
    "rate_vals = [0.0001, 1]\n",
    "momentum_vals = [0.5, 0.8]\n",
    "batch_size = 32\n",
    "epochs = 100\n",
    "\n",
    "for rate in rate_vals:\n",
    "  for momentum in momentum_vals:\n",
    "    model_tuning_SGD = sgd_nn(rate=rate, momentum=momentum)\n",
    "    accuracy_train_SGD, accuracy_test_SGD = sgd_eval(model=model_tuning_SGD, batch_size = batch_size, epochs = epochs)\n"
   ]
  }
 ],
 "metadata": {
  "kernelspec": {
   "display_name": "assignments",
   "language": "python",
   "name": "python3"
  },
  "language_info": {
   "codemirror_mode": {
    "name": "ipython",
    "version": 3
   },
   "file_extension": ".py",
   "mimetype": "text/x-python",
   "name": "python",
   "nbconvert_exporter": "python",
   "pygments_lexer": "ipython3",
   "version": "3.10.4"
  },
  "orig_nbformat": 4
 },
 "nbformat": 4,
 "nbformat_minor": 2
}
